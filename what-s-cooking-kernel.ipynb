{
 "cells": [
  {
   "cell_type": "code",
   "execution_count": 1,
   "metadata": {
    "_cell_guid": "b1076dfc-b9ad-4769-8c92-a6c4dae69d19",
    "_kg_hide-output": true,
    "_uuid": "8f2839f25d086af736a60e9eeb907d3b93b6e0e5"
   },
   "outputs": [
    {
     "name": "stdout",
     "output_type": "stream",
     "text": [
      "['sample_submission.csv', 'test.json', 'train.json']\n"
     ]
    }
   ],
   "source": [
    "# This Python 3 environment comes with many helpful analytics libraries installed\n",
    "# It is defined by the kaggle/python docker image: https://github.com/kaggle/docker-python\n",
    "# For example, here's several helpful packages to load in \n",
    "\n",
    "import numpy as np # linear algebra\n",
    "import pandas as pd # data processing, CSV file I/O (e.g. pd.read_csv)\n",
    "import matplotlib.pyplot as plt #plotting\n",
    "import seaborn as sns #plotting\n",
    "\n",
    "# Input data files are available in the \"../input/\" directory.\n",
    "# For example, running this (by clicking run or pressing Shift+Enter) will list the files in the input directory\n",
    "\n",
    "import os\n",
    "print(os.listdir(\"../input\"))\n",
    "\n",
    "# Any results you write to the current directory are saved as output."
   ]
  },
  {
   "cell_type": "code",
   "execution_count": 2,
   "metadata": {
    "_cell_guid": "79c7e3d0-c299-4dcb-8224-4455121ee9b0",
    "_uuid": "d629ff2d2480ee46fbb7e2d37f6b5fab8052498a"
   },
   "outputs": [],
   "source": [
    "# Loading the data\n",
    "\n",
    "train_df = pd.read_json('../input/train.json')\n",
    "test_df = pd.read_json('../input/test.json')"
   ]
  },
  {
   "cell_type": "code",
   "execution_count": 3,
   "metadata": {
    "_uuid": "6ffc9ba1702567b9ca7aa259fa5026aabced0a22",
    "scrolled": true
   },
   "outputs": [
    {
     "name": "stdout",
     "output_type": "stream",
     "text": [
      "Exploring the training data\n",
      "       cuisine                        ...                                                                ingredients\n",
      "0        greek                        ...                          [romaine lettuce, black olives, grape tomatoes...\n",
      "1  southern_us                        ...                          [plain flour, ground pepper, salt, tomatoes, g...\n",
      "2     filipino                        ...                          [eggs, pepper, salt, mayonaise, cooking oil, g...\n",
      "3       indian                        ...                                        [water, vegetable oil, wheat, salt]\n",
      "4       indian                        ...                          [black pepper, shallots, cornflour, cayenne pe...\n",
      "\n",
      "[5 rows x 3 columns]\n",
      "(39774, 3)\n",
      "Index(['cuisine', 'id', 'ingredients'], dtype='object')\n",
      "<class 'pandas.core.frame.DataFrame'>\n",
      "RangeIndex: 39774 entries, 0 to 39773\n",
      "Data columns (total 3 columns):\n",
      "cuisine        39774 non-null object\n",
      "id             39774 non-null int64\n",
      "ingredients    39774 non-null object\n",
      "dtypes: int64(1), object(2)\n",
      "memory usage: 932.3+ KB\n",
      "None\n",
      "-----------------------------------------------------------------------------------------------\n",
      "Exploring the test data\n",
      "      id                                        ingredients\n",
      "0  18009  [baking powder, eggs, all-purpose flour, raisi...\n",
      "1  28583  [sugar, egg yolks, corn starch, cream of tarta...\n",
      "2  41580  [sausage links, fennel bulb, fronds, olive oil...\n",
      "3  29752  [meat cuts, file powder, smoked sausage, okra,...\n",
      "4  35687  [ground black pepper, salt, sausage casings, l...\n",
      "(9944, 2)\n",
      "<class 'pandas.core.frame.DataFrame'>\n",
      "RangeIndex: 9944 entries, 0 to 9943\n",
      "Data columns (total 2 columns):\n",
      "id             9944 non-null int64\n",
      "ingredients    9944 non-null object\n",
      "dtypes: int64(1), object(1)\n",
      "memory usage: 155.5+ KB\n",
      "None\n",
      "-----------------------------------------------------------------------------------------------\n",
      "How many cuisine types are there? How common are they in the data set?\n",
      "There are 20 unique cuisine types\n"
     ]
    },
    {
     "data": {
      "text/plain": [
       "Text(0.5,1,'# of recipes per type of cuisine in training data')"
      ]
     },
     "execution_count": 3,
     "metadata": {},
     "output_type": "execute_result"
    },
    {
     "data": {
      "image/png": "[encoded data removed]",
      "text/plain": [
       "<Figure size 1440x432 with 1 Axes>"
      ]
     },
     "metadata": {},
     "output_type": "display_data"
    }
   ],
   "source": [
    "# Exploration\n",
    "\n",
    "print ('Exploring the training data')\n",
    "print (train_df.head(5))\n",
    "print (train_df.shape)\n",
    "print (train_df.columns)\n",
    "print (train_df.info())\n",
    "\n",
    "print ('-----------------------------------------------------------------------------------------------')\n",
    "print ('Exploring the test data')\n",
    "print (test_df.head(5))\n",
    "print (test_df.shape)\n",
    "print (test_df.info())\n",
    "\n",
    "print ('-----------------------------------------------------------------------------------------------')\n",
    "print ('How many cuisine types are there? How common are they in the data set?')\n",
    "\n",
    "unique_cuisine_types = train_df['cuisine'].nunique()\n",
    "print ('There are %d unique cuisine types'  %  (unique_cuisine_types))\n",
    "\n",
    "freq_cuisines = train_df['cuisine'].value_counts()\n",
    "plt.figure(figsize=(20,6))\n",
    "sns.barplot(x= freq_cuisines.index, y= freq_cuisines.values, color = 'b')\n",
    "plt.xlabel('type of cuisine')\n",
    "plt.ylabel('# of recipes')\n",
    "plt.title('# of recipes per type of cuisine in training data')"
   ]
  },
  {
   "cell_type": "markdown",
   "metadata": {
    "_uuid": "e3bdd7280e3f38d8e4560f2fdde7d75408ac2456"
   },
   "source": [
    "From briefly looking at the training and test data we can see that:\n",
    "1. The 'ingredients' column has a list of ingredients delimited by ','. We will have to deal with this when we tokenize the data. \n",
    "2. We can also spot  non-important words such as 'of' (in 'cream of tartar' which could be removed as they will not likely be linked to any particular cuisine\n",
    "3. There is a trade-off in tokenizing whole phrases, or individual words. Let's try individual words first..\n",
    "\n",
    "There are also 20 cuisine types, with italian being the most popular, and brazilian being the least popular. \n",
    "\n",
    "Now let's look at how many ingredients we might be working with..."
   ]
  },
  {
   "cell_type": "code",
   "execution_count": 4,
   "metadata": {
    "_uuid": "50439aa069351b4687988a2f7305267ac94f6959"
   },
   "outputs": [
    {
     "name": "stdout",
     "output_type": "stream",
     "text": [
      "The average number of ingredients is 10\n",
      "The max number of ingredients is 65\n",
      "The min number of ingredients is 1\n"
     ]
    },
    {
     "data": {
      "text/plain": [
       "Text(0.5,1,'spread of # of ingredients by type of cuisine, ordered by range in # of ingredients')"
      ]
     },
     "execution_count": 4,
     "metadata": {},
     "output_type": "execute_result"
    },
    {
     "data": {
      "image/png": "[encoded data removed]",
      "text/plain": [
       "<Figure size 1440x432 with 1 Axes>"
      ]
     },
     "metadata": {},
     "output_type": "display_data"
    }
   ],
   "source": [
    "# Exploration continued...\n",
    "\n",
    "# 1. Counting the number of ingredients in each recipe list\n",
    "number_of_ingredients = []\n",
    "for i in range(len(train_df['ingredients'])):\n",
    "    number_of_ingredients.append(len(train_df['ingredients'][i]))\n",
    "\n",
    "train_df['number_of_ingredients'] = number_of_ingredients\n",
    "\n",
    "print ('The average number of ingredients is %d' % np.average(number_of_ingredients))\n",
    "print ('The max number of ingredients is %d' % np.max(number_of_ingredients))\n",
    "print ('The min number of ingredients is %d' % np.min(number_of_ingredients))\n",
    "\n",
    "# What do the ranges of # of ingredients look like for the different cuisines?\n",
    "\n",
    "# Getting the min and max values of the boxplots to order it by size of range\n",
    "lowIQ = train_df.groupby(['cuisine']).quantile(0.25)['number_of_ingredients']\n",
    "highIQ = train_df.groupby(['cuisine']).quantile(0.75)['number_of_ingredients']\n",
    "IQR = highIQ - lowIQ\n",
    "minvalue = train_df.groupby(['cuisine']).min()['number_of_ingredients']\n",
    "maxvalue = highIQ + (IQR * 1.5)\n",
    "overall_range = maxvalue - minvalue\n",
    "ordered_cuisines = (overall_range.sort_values(ascending = False).index)\n",
    "\n",
    "plt.figure(figsize=(20,6))\n",
    "sns.boxplot(x=\"cuisine\", y=\"number_of_ingredients\",data= train_df, width = 0.7, color = 'b', order = ordered_cuisines)\n",
    "plt.xlabel('type of cuisine')\n",
    "plt.ylabel('# of ingredients')\n",
    "plt.title('spread of # of ingredients by type of cuisine, ordered by range in # of ingredients')"
   ]
  },
  {
   "cell_type": "markdown",
   "metadata": {
    "_uuid": "a35019a13fae1a03e9fa49168c681c349cbe8234"
   },
   "source": [
    "The average number of ingredients is 10 but there is a huge range in all cuisine types, ranging from 65 to 1.\n",
    "\n",
    "As you would expect... the British range excluding outliers has a maximum value which is relatively low whilst Vietnamese and Indian cuisines appear to use many more ingredients. \n",
    "\n",
    ".... Now let's turn the data into something we can work with for predictions and create our test and training data sets"
   ]
  },
  {
   "cell_type": "code",
   "execution_count": 5,
   "metadata": {
    "_uuid": "9fbf45a7f51b435c32f72af22f11e3411a824314"
   },
   "outputs": [],
   "source": [
    "# Turn the ingredients into a single string so we can process them as individual words, as important words may be more easily recognised as common between \n",
    "# recipes.\n",
    "train_df['seperated_ingredients'] = train_df['ingredients'].apply(','.join)\n",
    "test_df['seperated_ingredients'] = test_df['ingredients'].apply(','.join)\n",
    "\n",
    "# We also need to turn the cuisines into numbers for our neural networks later...\n",
    "train_df['cuisine'] = pd.Categorical(train_df['cuisine'])\n",
    "\n",
    "#To capture the category codes in a column for one-hot-encoding later (using keras.utils.to_categorical)\n",
    "train_df['cuisine_code'] = train_df.cuisine.cat.codes\n",
    "\n"
   ]
  },
  {
   "cell_type": "code",
   "execution_count": 6,
   "metadata": {
    "_uuid": "d7cbfc39896c6ba6daddea4b21dd3704321ede5e"
   },
   "outputs": [],
   "source": [
    "#Splitting the training data\n",
    "from sklearn.model_selection import train_test_split\n",
    "\n",
    "X_train, X_test, y_train, y_test = train_test_split(train_df['seperated_ingredients'], train_df['cuisine_code'], test_size = 0.30, random_state = 102)"
   ]
  },
  {
   "cell_type": "markdown",
   "metadata": {
    "_uuid": "b4186d49dbf8a05a0e64c40bf0f9d8c9cdd85bf0"
   },
   "source": [
    "To predict the cuisine types for the test data, I will use both CountVectorizer.\n",
    "\n",
    "CountVectorizer simply counts the number of text tokens and puts them in a matrix. \n",
    "\n",
    "There will also be several conditions within the vectorization steps: \n",
    "1) Lemmatizing the words so that similar words can be recognised e.g. olives and olive\n",
    "2) Removing stopwords such as 'the' and 'and' which will likely not be linked to any cuisine type and will contribute to noise\n",
    "3) Tokenizing on words only with a token pattern, ignoring any numbers which again will likely just be noise. \n",
    "4) Ensuring all words are lowercase as capslock can interfere with matching. \n",
    "\n"
   ]
  },
  {
   "cell_type": "code",
   "execution_count": 7,
   "metadata": {
    "_uuid": "338cee23708101fa5d2558c743954d62c15d8957"
   },
   "outputs": [
    {
     "name": "stderr",
     "output_type": "stream",
     "text": [
      "Using TensorFlow backend.\n",
      "/opt/conda/lib/python3.6/site-packages/sklearn/feature_extraction/text.py:300: UserWarning: Your stop_words may be inconsistent with your preprocessing. Tokenizing the stop words generated tokens ['ha', 'le', 'u', 'wa'] not in stop_words.\n",
      "  'stop_words.' % sorted(inconsistent))\n"
     ]
    }
   ],
   "source": [
    "from sklearn.feature_extraction.text import CountVectorizer\n",
    "from nltk import word_tokenize          \n",
    "from nltk.stem import WordNetLemmatizer \n",
    "class LemmaTokenizer(object):\n",
    "       def __init__(self):\n",
    "            self.wnl = WordNetLemmatizer()\n",
    "       def __call__(self, doc):\n",
    "            return [self.wnl.lemmatize(t) for t in word_tokenize(doc)]\n",
    "pattern = r\"[A-Za-z]\"\n",
    "from keras.utils import np_utils   \n",
    "\n",
    "vec = CountVectorizer(tokenizer=LemmaTokenizer(), stop_words = 'english', lowercase = True, token_pattern = pattern, ngram_range = (1,1))\n",
    "training_predictors = vec.fit_transform(train_df['seperated_ingredients'])\n",
    "n_cols = training_predictors.shape[1]\n",
    "# print (training_predictors) - need to find out what word id 9 is as it appears a lot in the first row..\n",
    "training_targets = np_utils.to_categorical(train_df['cuisine_code']) #y_train needs to be a list of numbers corresponding to cuisines\n",
    "#print (training_targets)"
   ]
  },
  {
   "cell_type": "code",
   "execution_count": 8,
   "metadata": {
    "_uuid": "7e20216943c61cf773457a93156092ff63af4869"
   },
   "outputs": [
    {
     "name": "stdout",
     "output_type": "stream",
     "text": [
      "_________________________________________________________________\n",
      "Layer (type)                 Output Shape              Param #   \n",
      "=================================================================\n",
      "dense_1 (Dense)              (None, 1000)              3014000   \n",
      "_________________________________________________________________\n",
      "dropout_1 (Dropout)          (None, 1000)              0         \n",
      "_________________________________________________________________\n",
      "dense_2 (Dense)              (None, 1000)              1001000   \n",
      "_________________________________________________________________\n",
      "dropout_2 (Dropout)          (None, 1000)              0         \n",
      "_________________________________________________________________\n",
      "dense_3 (Dense)              (None, 1000)              1001000   \n",
      "_________________________________________________________________\n",
      "dropout_3 (Dropout)          (None, 1000)              0         \n",
      "_________________________________________________________________\n",
      "dense_4 (Dense)              (None, 20)                20020     \n",
      "=================================================================\n",
      "Total params: 5,036,020\n",
      "Trainable params: 5,036,020\n",
      "Non-trainable params: 0\n",
      "_________________________________________________________________\n",
      "Train on 27841 samples, validate on 11933 samples\n",
      "Epoch 1/10\n",
      "27841/27841 [==============================] - 14s 503us/step - loss: 8.3749 - acc: 0.0605 - val_loss: 11.2187 - val_acc: 0.0689\n",
      "Epoch 2/10\n",
      "27841/27841 [==============================] - 14s 498us/step - loss: 8.9908 - acc: 0.0520 - val_loss: 11.0961 - val_acc: 0.0688\n",
      "Epoch 3/10\n",
      "27841/27841 [==============================] - 13s 480us/step - loss: 7.8577 - acc: 0.0504 - val_loss: 10.4676 - val_acc: 0.0687\n",
      "Epoch 4/10\n",
      "27841/27841 [==============================] - 13s 483us/step - loss: 7.7100 - acc: 0.0519 - val_loss: 11.2309 - val_acc: 0.0687\n",
      "Epoch 5/10\n",
      "27841/27841 [==============================] - 13s 474us/step - loss: 8.8017 - acc: 0.0515 - val_loss: 11.3155 - val_acc: 0.0688\n",
      "Epoch 6/10\n",
      "27841/27841 [==============================] - 13s 468us/step - loss: 7.7870 - acc: 0.0481 - val_loss: 11.3234 - val_acc: 0.0688\n"
     ]
    },
    {
     "data": {
      "text/plain": [
       "<keras.callbacks.History at 0x7fb519d94f60>"
      ]
     },
     "execution_count": 8,
     "metadata": {},
     "output_type": "execute_result"
    }
   ],
   "source": [
    "#Using neural networks\n",
    "\n",
    "#Imports\n",
    "import keras\n",
    "from keras.layers import Dense , Dropout#\n",
    "from keras.models import Sequential #\n",
    "from keras.callbacks import EarlyStopping\n",
    "early_stopping_monitor = EarlyStopping(patience = 3)\n",
    "\n",
    "# Set up the model: model\n",
    "def get_model(dropout = 0.4):\n",
    "    model = Sequential()\n",
    "    # Add the first layer\n",
    "    model.add(Dense(1000, activation = 'relu', input_shape=(n_cols,)))\n",
    "    model.add(Dropout(dropout))\n",
    "    # Add a second layer\n",
    "    model.add(Dense(1000, activation = 'relu'))\n",
    "    model.add(Dropout(dropout))\n",
    "    # Add a third layer\n",
    "    model.add(Dense(1000, activation = 'softmax'))\n",
    "    model.add(Dropout(dropout))\n",
    "    # Add the output layer\n",
    "    model.add(Dense(20))\n",
    "    # Compile the model\n",
    "    model.compile(optimizer='adam', loss='categorical_crossentropy', metrics = ['accuracy'])\n",
    "    model.summary()\n",
    "    return model\n",
    "\n",
    "model_nn = get_model()\n",
    "# Fit the model\n",
    "model_nn.fit(training_predictors, training_targets,batch_size=300, epochs=10, validation_split = 0.3, callbacks = [early_stopping_monitor])"
   ]
  },
  {
   "cell_type": "code",
   "execution_count": 9,
   "metadata": {
    "_uuid": "0cf3e98bc091fc8443aae2ed2a54e688f5945e4c"
   },
   "outputs": [],
   "source": [
    "# Best score so far is: 0.74030 "
   ]
  },
  {
   "cell_type": "code",
   "execution_count": 10,
   "metadata": {
    "_uuid": "30162113031a11b8537a61af10edfa8d2e93e886",
    "scrolled": true
   },
   "outputs": [
    {
     "ename": "NameError",
     "evalue": "name 'pl' is not defined",
     "output_type": "error",
     "traceback": [
      "\u001b[0;31m---------------------------------------------------------------------------\u001b[0m",
      "\u001b[0;31mNameError\u001b[0m                                 Traceback (most recent call last)",
      "\u001b[0;32m<ipython-input-10-afcf3b761f74>\u001b[0m in \u001b[0;36m<module>\u001b[0;34m()\u001b[0m\n\u001b[1;32m      1\u001b[0m \u001b[0;31m# Writing the test submission file\u001b[0m\u001b[0;34m\u001b[0m\u001b[0;34m\u001b[0m\u001b[0m\n\u001b[0;32m----> 2\u001b[0;31m \u001b[0msubmission\u001b[0m \u001b[0;34m=\u001b[0m \u001b[0mpl\u001b[0m\u001b[0;34m.\u001b[0m\u001b[0mpredict\u001b[0m\u001b[0;34m(\u001b[0m\u001b[0mtest_df\u001b[0m\u001b[0;34m[\u001b[0m\u001b[0;34m'seperated_ingredients'\u001b[0m\u001b[0;34m]\u001b[0m\u001b[0;34m)\u001b[0m\u001b[0;34m\u001b[0m\u001b[0m\n\u001b[0m\u001b[1;32m      3\u001b[0m \u001b[0;34m\u001b[0m\u001b[0m\n\u001b[1;32m      4\u001b[0m \u001b[0msubmission_file\u001b[0m \u001b[0;34m=\u001b[0m \u001b[0mpd\u001b[0m\u001b[0;34m.\u001b[0m\u001b[0mDataFrame\u001b[0m\u001b[0;34m(\u001b[0m\u001b[0mdata\u001b[0m \u001b[0;34m=\u001b[0m \u001b[0msubmission\u001b[0m\u001b[0;34m,\u001b[0m \u001b[0mcolumns\u001b[0m \u001b[0;34m=\u001b[0m \u001b[0;34m[\u001b[0m\u001b[0;34m'cuisine'\u001b[0m\u001b[0;34m]\u001b[0m\u001b[0;34m,\u001b[0m \u001b[0mindex\u001b[0m \u001b[0;34m=\u001b[0m \u001b[0mtest_df\u001b[0m\u001b[0;34m[\u001b[0m\u001b[0;34m'id'\u001b[0m\u001b[0;34m]\u001b[0m\u001b[0;34m)\u001b[0m\u001b[0;34m\u001b[0m\u001b[0m\n\u001b[1;32m      5\u001b[0m \u001b[0;34m\u001b[0m\u001b[0m\n",
      "\u001b[0;31mNameError\u001b[0m: name 'pl' is not defined"
     ]
    }
   ],
   "source": [
    "# Writing the test submission file \n",
    "submission = pl.predict(test_df['seperated_ingredients'])\n",
    "\n",
    "submission_file = pd.DataFrame(data = submission, columns = ['cuisine'], index = test_df['id'])\n",
    "\n",
    "submission_file.reset_index(level=0, inplace=True)\n",
    "\n",
    "print (submission_file.head(5))\n",
    "submission_file.to_csv('submission4.csv', index = False)"
   ]
  }
 ],
 "metadata": {
  "kernelspec": {
   "display_name": "Python 3",
   "language": "python",
   "name": "python3"
  },
  "language_info": {
   "codemirror_mode": {
    "name": "ipython",
    "version": 3
   },
   "file_extension": ".py",
   "mimetype": "text/x-python",
   "name": "python",
   "nbconvert_exporter": "python",
   "pygments_lexer": "ipython3",
   "version": "3.6.6"
  }
 },
 "nbformat": 4,
 "nbformat_minor": 1
}
